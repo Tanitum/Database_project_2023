{
 "cells": [
  {
   "cell_type": "markdown",
   "id": "45ae55b2",
   "metadata": {},
   "source": [
    "В этом файле проводится генерация данных, вставка данных в БД, извлечение данных и анализ с использованием Python:"
   ]
  },
  {
   "cell_type": "code",
   "execution_count": 1,
   "id": "dcabc6ef",
   "metadata": {},
   "outputs": [],
   "source": [
    "import pandas as pd\n",
    "import psycopg2 as pg\n",
    "from faker import Faker\n",
    "import matplotlib.pyplot as plt\n",
    "import seaborn as sns"
   ]
  },
  {
   "cell_type": "markdown",
   "id": "feb6ad68",
   "metadata": {},
   "source": [
    "Создание docker и database:\n",
    "https://alexsaplin.notion.site/alexsaplin/10-a1f16c857c1444a685afdffbafdd0dee"
   ]
  },
  {
   "cell_type": "code",
   "execution_count": 2,
   "id": "1e269ce3",
   "metadata": {},
   "outputs": [],
   "source": [
    "if __name__ == '__main__':\n",
    "    conn = pg.connect(f\"\"\"\n",
    "        dbname='{\"postgres\"}' \n",
    "        user='{\"postgres\"}' \n",
    "        port='{\"5432\"}' \n",
    "        password='{\"postgres\"}'\n",
    "    \"\"\")\n",
    "\n",
    "cursor = conn.cursor()"
   ]
  },
  {
   "cell_type": "markdown",
   "id": "27264f13",
   "metadata": {},
   "source": [
    "Для генерации данных используем библиотеку Faker\n",
    "https://pypi.org/project/Faker/"
   ]
  },
  {
   "cell_type": "code",
   "execution_count": 3,
   "id": "a208145a",
   "metadata": {},
   "outputs": [],
   "source": [
    "# Сгенерируем данные и заполним табличку store.\n",
    "fake = Faker()\n",
    "comp_1 = fake.company() + \" Store\"\n",
    "comp_2 = fake.company() + \" Store\"\n",
    "comp_3 = fake.company() + \" Store\"\n",
    "\n",
    "cursor.execute(\"\"\"\n",
    "INSERT INTO database_project.store (store_id, store_nm) VALUES\n",
    "    (DEFAULT, %s),\n",
    "    (DEFAULT, %s),\n",
    "    (DEFAULT, %s);\n",
    "\"\"\", [comp_1, comp_2, comp_3])\n",
    "\n",
    "# Сгенерируем данные и заполним табличку client.\n",
    "cursor.execute(\"\"\"\n",
    "INSERT INTO database_project.client (client_id, client_nm, client_surname,\n",
    "client_username, client_password) VALUES\n",
    "    (DEFAULT, %s, %s, %s, %s);\n",
    "\"\"\", [fake.first_name(), fake.last_name(), fake.user_name(), fake.password()])"
   ]
  },
  {
   "cell_type": "markdown",
   "id": "3cbb74e1",
   "metadata": {},
   "source": [
    "Посмотрим на список всех магазинов в базе данных, включая добавленные только что:"
   ]
  },
  {
   "cell_type": "code",
   "execution_count": 4,
   "id": "883829c8",
   "metadata": {},
   "outputs": [
    {
     "name": "stdout",
     "output_type": "stream",
     "text": [
      "Лист из id store_nm из таблицы store:\n",
      "[(1, 'Mall1'), (2, 'City'), (3, 'BestMall'), (4, 'TheBestStore'), (5, 'SuperStore'), (6, 'Mall1234'), (7, 'Yandex Market'), (8, 'Amazon'), (9, 'Интернет-магазин OZON'), (10, 'Интернет-магазин Дикие ягодки'), (14, 'Crosby Group Store'), (15, 'Brown PLC Store'), (16, 'Horne, Cohen and Morris Store'), (20, 'Ramos, Compton and Martinez Store'), (21, 'Cole-Hall Store'), (22, 'Dennis-Anderson Store'), (23, 'Nichols-Tucker Store'), (24, 'Sandoval-Thomas Store'), (25, 'Luna and Sons Store'), (26, 'Wagner-Morales Store'), (27, 'White PLC Store'), (28, 'Owens-Meyer Store'), (29, 'Watts, Williams and Smith Store'), (30, 'Norton Inc Store'), (31, 'Taylor, Simpson and Smith Store'), (32, 'Wise-Norman Store'), (33, 'Vega LLC Store'), (34, 'Hansen Inc Store'), (35, 'Washington-Todd Store'), (36, 'Shields-Wright Store'), (37, 'Gutierrez LLC Store'), (38, 'Anderson-Smith Store'), (39, 'Willis-Rogers Store'), (40, 'Martinez, Carlson and Ramos Store'), (41, 'Cline-Fox Store'), (42, 'Burgess-Zavala Store'), (43, 'Patel LLC Store'), (44, 'Bright, Johnson and Casey Store'), (45, 'Velasquez-Webster Store'), (46, 'Pena, Johnson and Lester Store'), (47, 'Zavala-Reynolds Store'), (48, 'Myers-Benson Store'), (49, 'Ellis, Rivera and Tran Store'), (50, 'Lopez-Roach Store'), (51, 'Blake-Moon Store'), (52, 'Stanton, Grant and Gomez Store'), (53, 'Bennett, Fleming and Lucero Store'), (54, 'Bolton PLC Store'), (55, 'Jones, Hudson and Thompson Store'), (56, 'Daniels-Fuentes Store'), (57, 'Moore Ltd Store'), (58, 'Williams Group Store'), (59, 'Stewart, Cooley and Mcdonald Store'), (60, 'White-Ramos Store'), (61, 'Walters, Clark and Monroe Store'), (62, 'Baker-Byrd Store'), (63, 'Frey, Jackson and Murray Store'), (64, 'Reed, Wright and May Store'), (65, 'Bell-Archer Store'), (66, 'Taylor-Shaw Store'), (67, 'Montgomery, Garcia and Little Store'), (68, 'Arias, Mills and Thomas Store'), (69, 'Davis Ltd Store'), (70, 'Diaz LLC Store')]\n"
     ]
    }
   ],
   "source": [
    "cursor.execute(f\"SELECT * FROM database_project.store\")\n",
    "rows = cursor.fetchall()\n",
    "print(\"Лист из id store_nm из таблицы store:\")\n",
    "print(rows)\n",
    "conn.commit()"
   ]
  },
  {
   "cell_type": "markdown",
   "id": "dcaeb46b",
   "metadata": {},
   "source": [
    "Дальше проведем какой-то анализ с помощью pandas, можем построить графики/хитмапы."
   ]
  },
  {
   "cell_type": "code",
   "execution_count": 5,
   "id": "fa60914b",
   "metadata": {},
   "outputs": [
    {
     "name": "stdout",
     "output_type": "stream",
     "text": [
      "\n",
      "Dataframe с данными из client без учета client_password, добавлены сгенерированные люди:\n",
      "   client_id  client_nm client_surname  client_username\n",
      "0          1       Иван         Иванов       Pozitiv4ik\n",
      "1          2     Андрей        Смирнов      Black_Angel\n",
      "2          3       Катя       Арбузова  В ожидании чуда\n",
      "3          4     Марина       Соколова     З@Я_ ИЗ _Р@Я\n",
      "4          5       Петя       Яблочкин        Baby boom\n",
      "5          6       Анна       Смирнова      Части4каРая\n",
      "6          7      Ольга       Сидорова      White_Angel\n",
      "7          8       John          Black        NeGaTiG4K\n",
      "8          9      Ксюша         Умнова      F R O Z E N\n",
      "9         10     Матвей         Ерохин  ПРИКИНЬ, Я КОТ!\n",
      "10        11     Shelby    Fitzpatrick           karl83\n",
      "11        12      Emily            Roy       grodriguez\n",
      "12        13    Tabitha          Reyes     josephporter\n",
      "13        14    Stephen          Brock     matthewjones\n",
      "14        15     Cheryl          Smith         kjackson\n",
      "15        16      Laura         Taylor        marissa26\n",
      "16        17    Timothy      Christian    gonzalezdavid\n",
      "17        18      Jesus       Woodward  mcguirenicholas\n",
      "18        19     Brenda          Jones     brittanymayo\n",
      "19        20      Donna         Nelson           seth51\n",
      "20        21    Desiree          Oneal          awagner\n",
      "21        22      Jason         Miller    gonzalezsusan\n",
      "22        23    Derrick        Schmidt          etaylor\n",
      "23        24  Christina         Tucker     riverarodney\n",
      "24        25       Sara     Richardson    timothycuevas\n",
      "25        26      Jason       Mitchell        michael36\n",
      "26        27    Brianna          Allen     matthewirwin\n"
     ]
    }
   ],
   "source": [
    "columns = [\"client_id\", \"client_nm\", \"client_surname\", \"client_username\"]\n",
    "clients = pd.DataFrame(columns=columns)\n",
    "cursor.execute(f\"SELECT {', '.join(columns)} FROM database_project.client\")\n",
    "rows = cursor.fetchall()\n",
    "for row in rows:\n",
    "    clients = pd.concat(\n",
    "        [clients, pd.DataFrame.from_dict(dict(zip(columns, list(map(lambda x: [x], row)))))],\n",
    "        ignore_index=True\n",
    "    )\n",
    "\n",
    "print(\"\")\n",
    "print(\"Dataframe с данными из client без учета client_password, добавлены сгенерированные люди:\")\n",
    "print(clients)"
   ]
  },
  {
   "cell_type": "markdown",
   "id": "3a7d5ca3",
   "metadata": {},
   "source": [
    "Посмотрим на график с количеством заказов разлчных статусов во всех магазинах."
   ]
  },
  {
   "cell_type": "code",
   "execution_count": 6,
   "id": "6a8a70ee",
   "metadata": {},
   "outputs": [
    {
     "data": {
      "image/png": "[encoded data removed]",
      "text/plain": [
       "<Figure size 640x480 with 1 Axes>"
      ]
     },
     "metadata": {},
     "output_type": "display_data"
    }
   ],
   "source": [
    "columns = [\"order_id\", \"order_num\", \"order_status\", \"order_dttm\"]\n",
    "orders = pd.DataFrame(columns=columns)\n",
    "cursor.execute(f\"SELECT {', '.join(columns)} FROM database_project.order\")\n",
    "rows = cursor.fetchall()\n",
    "for row in rows:\n",
    "    orders = pd.concat(\n",
    "        [orders, pd.DataFrame.from_dict(dict(zip(columns, list(map(lambda x: [x], row)))))],\n",
    "        ignore_index=True\n",
    "    )\n",
    "\n",
    "plt.title(\"Количество заказов различных статусов\")\n",
    "sns.histplot(data=orders, x='order_status')\n",
    "plt.show()"
   ]
  },
  {
   "cell_type": "markdown",
   "id": "e549279d",
   "metadata": {},
   "source": [
    "Посмотрим на значения в представлении store_products_view:"
   ]
  },
  {
   "cell_type": "code",
   "execution_count": 7,
   "id": "4c73d35d",
   "metadata": {},
   "outputs": [
    {
     "name": "stdout",
     "output_type": "stream",
     "text": [
      "         store_id     product_id                   store_name  \\\n",
      "0  ID магазина: 8  ID товара: 13    Название магазина: Amazon   \n",
      "1  ID магазина: 8  ID товара: 14    Название магазина: Amazon   \n",
      "2  ID магазина: 3   ID товара: 4  Название магазина: BestMall   \n",
      "3  ID магазина: 2   ID товара: 3      Название магазина: City   \n",
      "4  ID магазина: 1   ID товара: 2     Название магазина: Mall1   \n",
      "\n",
      "                product_nm            storage_cnt     product_price  \n",
      "0  Название товара: Огурцы     Запасы товара: 700  Цена товара: 200  \n",
      "1  Название товара: Яблоки     Запасы товара: 250  Цена товара: 150  \n",
      "2  Название товара: Яблоки  Запасы товара: 2200.5  Цена товара: 150  \n",
      "3  Название товара: Яблоки  Запасы товара: 1200.5  Цена товара: 150  \n",
      "4  Название товара: Огурцы     Запасы товара: 500  Цена товара: 200  \n"
     ]
    }
   ],
   "source": [
    "columns = [\"store_id\", \"product_id\", \"store_name\", \"product_nm\", \"storage_cnt\", \"product_price\"]\n",
    "store_products_view = pd.DataFrame(columns=columns)\n",
    "cursor.execute(f\"SELECT {', '.join(columns)} FROM database_project.store_products_view\")\n",
    "rows = cursor.fetchall()\n",
    "for row in rows:\n",
    "    store_products_view = pd.concat(\n",
    "        [store_products_view, pd.DataFrame.from_dict(dict(zip(columns, list(map(lambda x: [x], row)))))],\n",
    "        ignore_index=True\n",
    "    )\n",
    "\n",
    "print(store_products_view.head())"
   ]
  },
  {
   "cell_type": "markdown",
   "id": "ae6a77a9",
   "metadata": {},
   "source": [
    "Обработаем эти данные. Для начала уберем лишний текст во всех столбцах."
   ]
  },
  {
   "cell_type": "code",
   "execution_count": 8,
   "id": "94dca76e",
   "metadata": {},
   "outputs": [
    {
     "name": "stdout",
     "output_type": "stream",
     "text": [
      "   store_id  product_id store_name product_nm  storage_cnt  product_price\n",
      "0         8          13     Amazon     Огурцы        700.0          200.0\n",
      "1         8          14     Amazon     Яблоки        250.0          150.0\n",
      "2         3           4   BestMall     Яблоки       2200.5          150.0\n",
      "3         2           3       City     Яблоки       1200.5          150.0\n",
      "4         1           2      Mall1     Огурцы        500.0          200.0\n"
     ]
    }
   ],
   "source": [
    "store_products = store_products_view;\n",
    "store_products['store_id'] = store_products['store_id'].str[13:].astype('int')\n",
    "store_products['product_id'] = store_products['product_id'].str[11:].astype('int')\n",
    "store_products['store_name'] = store_products['store_name'].str[19:]\n",
    "store_products['product_nm'] = store_products['product_nm'].str[17:]\n",
    "store_products['storage_cnt'] = store_products['storage_cnt'].str[15:].astype('float')\n",
    "store_products['product_price'] = store_products['product_price'].str[13:].astype('float')\n",
    "print(store_products.head())"
   ]
  },
  {
   "cell_type": "markdown",
   "id": "7d0a6ccf",
   "metadata": {},
   "source": [
    "Посмотрим на цены товаров и хранимое количество в магазине с store_id = 7."
   ]
  },
  {
   "cell_type": "code",
   "execution_count": 9,
   "id": "0a81489a",
   "metadata": {},
   "outputs": [
    {
     "name": "stdout",
     "output_type": "stream",
     "text": [
      "Статистика по магазину: Yandex Market\n"
     ]
    }
   ],
   "source": [
    "store_products_7 = store_products.loc[(store_products['store_id'] == 7)]\n",
    "print(\"Статистика по магазину: \" + store_products_7.iloc[0]['store_name'])"
   ]
  },
  {
   "cell_type": "code",
   "execution_count": 10,
   "id": "8dcadb0d",
   "metadata": {},
   "outputs": [
    {
     "data": {
      "image/png": "[encoded data removed]",
      "text/plain": [
       "<Figure size 640x480 with 1 Axes>"
      ]
     },
     "metadata": {},
     "output_type": "display_data"
    }
   ],
   "source": [
    "plt.scatter (store_products_7['storage_cnt'], store_products_7['product_price'])\n",
    "plt.xlabel('Запасы товара')\n",
    "plt.ylabel('Цена товара')\n",
    "plt.title(\"Данные по товарам магазина \" + store_products_7.iloc[0]['store_name'])\n",
    "\n",
    "for i, txt in enumerate(store_products_7['product_nm'].squeeze()):\n",
    "    plt.annotate(txt, (store_products_7['storage_cnt'].iloc[i]-40, store_products_7['product_price'].iloc[i]+12))\n",
    "plt.show()"
   ]
  }
 ],
 "metadata": {
  "kernelspec": {
   "display_name": "Python 3 (ipykernel)",
   "language": "python",
   "name": "python3"
  },
  "language_info": {
   "codemirror_mode": {
    "name": "ipython",
    "version": 3
   },
   "file_extension": ".py",
   "mimetype": "text/x-python",
   "name": "python",
   "nbconvert_exporter": "python",
   "pygments_lexer": "ipython3",
   "version": "3.7.16"
  }
 },
 "nbformat": 4,
 "nbformat_minor": 5
}
